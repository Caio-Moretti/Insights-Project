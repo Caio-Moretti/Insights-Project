{
 "cells": [
  {
   "cell_type": "markdown",
   "id": "e175fa2c",
   "metadata": {},
   "source": [
    "## Imports"
   ]
  },
  {
   "cell_type": "code",
   "execution_count": 1,
   "id": "12d841a9",
   "metadata": {},
   "outputs": [],
   "source": [
    "import pandas as pd\n",
    "import numpy as np\n",
    "import seaborn as sns\n",
    "from matplotlib import pyplot as plt"
   ]
  },
  {
   "cell_type": "code",
   "execution_count": 2,
   "id": "aa2976a3",
   "metadata": {},
   "outputs": [
    {
     "name": "stdout",
     "output_type": "stream",
     "text": [
      "Requirement already satisfied: tabulate in c:\\users\\caiom\\anaconda3\\lib\\site-packages (0.8.9)\n"
     ]
    },
    {
     "name": "stderr",
     "output_type": "stream",
     "text": [
      "WARNING: You are using pip version 22.0.3; however, version 22.0.4 is available.\n",
      "You should consider upgrading via the 'C:\\Users\\caiom\\anaconda3\\python.exe -m pip install --upgrade pip' command.\n"
     ]
    }
   ],
   "source": [
    "!pip install tabulate"
   ]
  },
  {
   "cell_type": "markdown",
   "id": "800f38f8",
   "metadata": {},
   "source": [
    "## Functions"
   ]
  },
  {
   "cell_type": "code",
   "execution_count": 3,
   "id": "357f7468",
   "metadata": {},
   "outputs": [],
   "source": [
    "def get_data (path):\n",
    "    '''\n",
    "    Returns the dataset.\n",
    "    '''\n",
    "    df = pd.read_csv(path)\n",
    "    df.head()\n",
    "    df.rename(columns = {'price':'buying_price'}, inplace = True)\n",
    "    return df\n",
    "\n",
    "def percentage_growth(data):\n",
    "    '''\n",
    "    Returns the percentage growth of the second value compared to the first one.\n",
    "    '''\n",
    "    answer = (data.iloc[1, 1] * 100 / data.iloc[0, 1]) - 100\n",
    "    return answer"
   ]
  },
  {
   "cell_type": "markdown",
   "id": "fa758720",
   "metadata": {},
   "source": [
    "## Get data"
   ]
  },
  {
   "cell_type": "code",
   "execution_count": 4,
   "id": "185f037f",
   "metadata": {},
   "outputs": [],
   "source": [
    "path = 'kc_house_data.csv'\n",
    "data = get_data(path)"
   ]
  },
  {
   "cell_type": "markdown",
   "id": "ee43ab59",
   "metadata": {},
   "source": [
    "## Data Visualization and Filtering"
   ]
  },
  {
   "cell_type": "code",
   "execution_count": 5,
   "id": "82816a45",
   "metadata": {},
   "outputs": [],
   "source": [
    "# dropping a line I know is a outlier\n",
    "data = data.drop(data.index[15870])"
   ]
  },
  {
   "cell_type": "code",
   "execution_count": 6,
   "id": "7c146313",
   "metadata": {},
   "outputs": [
    {
     "data": {
      "text/plain": [
       "Index(['id', 'date', 'buying_price', 'bedrooms', 'bathrooms', 'sqft_living',\n",
       "       'sqft_lot', 'floors', 'waterfront', 'view', 'condition', 'grade',\n",
       "       'sqft_above', 'sqft_basement', 'yr_built', 'yr_renovated', 'zipcode',\n",
       "       'lat', 'long', 'sqft_living15', 'sqft_lot15'],\n",
       "      dtype='object')"
      ]
     },
     "execution_count": 6,
     "metadata": {},
     "output_type": "execute_result"
    }
   ],
   "source": [
    "# data columns visualization for names\n",
    "data.columns"
   ]
  },
  {
   "cell_type": "markdown",
   "id": "2e82facd",
   "metadata": {},
   "source": [
    "***\n",
    "## Insights Validation\n",
    "Here i will check the insights veracity and explain its results one by one."
   ]
  },
  {
   "cell_type": "markdown",
   "id": "05662b67",
   "metadata": {},
   "source": [
    "### Hypotesis 01:\n",
    "Water view properties are, at least, 20% more expensive, on avarege."
   ]
  },
  {
   "cell_type": "code",
   "execution_count": 7,
   "id": "d6b39a51",
   "metadata": {},
   "outputs": [
    {
     "name": "stdout",
     "output_type": "stream",
     "text": [
      "Properties with water view are 212.64% more expensive, on avarege\n",
      "|    |   waterfront |   buying_price_mean |\n",
      "|---:|-------------:|--------------------:|\n",
      "|  0 |            0 |    531559           |\n",
      "|  1 |            1 |         1.66188e+06 |\n"
     ]
    },
    {
     "data": {
      "text/html": [
       "<div>\n",
       "<style scoped>\n",
       "    .dataframe tbody tr th:only-of-type {\n",
       "        vertical-align: middle;\n",
       "    }\n",
       "\n",
       "    .dataframe tbody tr th {\n",
       "        vertical-align: top;\n",
       "    }\n",
       "\n",
       "    .dataframe thead th {\n",
       "        text-align: right;\n",
       "    }\n",
       "</style>\n",
       "<table border=\"1\" class=\"dataframe\">\n",
       "  <thead>\n",
       "    <tr style=\"text-align: right;\">\n",
       "      <th></th>\n",
       "      <th>waterfront</th>\n",
       "      <th>buying_price_mean</th>\n",
       "    </tr>\n",
       "  </thead>\n",
       "  <tbody>\n",
       "    <tr>\n",
       "      <th>0</th>\n",
       "      <td>0</td>\n",
       "      <td>531558.54</td>\n",
       "    </tr>\n",
       "    <tr>\n",
       "      <th>1</th>\n",
       "      <td>1</td>\n",
       "      <td>1661876.02</td>\n",
       "    </tr>\n",
       "  </tbody>\n",
       "</table>\n",
       "</div>"
      ],
      "text/plain": [
       "   waterfront  buying_price_mean\n",
       "0           0          531558.54\n",
       "1           1         1661876.02"
      ]
     },
     "execution_count": 7,
     "metadata": {},
     "output_type": "execute_result"
    }
   ],
   "source": [
    "# set float configuration\n",
    "pd.set_option('display.float_format', lambda x: '%.2f' % x)\n",
    "\n",
    "# group the prices means by waterfront (0 = nowaterview; 1 = has waterview)\n",
    "price_waterview = data[['buying_price', 'waterfront']].groupby('waterfront').mean().reset_index()\n",
    "\n",
    "# calculate the percentage difference of waterview prices over non-waterview prices\n",
    "x = percentage_growth(price_waterview)\n",
    "\n",
    "# print the answers\n",
    "price_waterview.rename(columns = {'buying_price':'buying_price_mean'}, inplace = True)\n",
    "print(f'Properties with water view are {x:.2f}% more expensive, on avarege')\n",
    "print(price_waterview.to_markdown())\n",
    "price_waterview"
   ]
  },
  {
   "cell_type": "markdown",
   "id": "642f955c",
   "metadata": {},
   "source": [
    "### Hypotesis 01 Answer:\n",
    "**True:** Properties with water view are 212.63% more expensive, on avarege.\n"
   ]
  },
  {
   "cell_type": "markdown",
   "id": "a11fc52c",
   "metadata": {},
   "source": [
    "****"
   ]
  },
  {
   "cell_type": "markdown",
   "id": "27baa45f",
   "metadata": {},
   "source": [
    "### Hypotesis 02:\n",
    "Properties built before 1955 are more than 50% cheaper, on avarege.\n"
   ]
  },
  {
   "cell_type": "code",
   "execution_count": 12,
   "id": "51a6ffd9",
   "metadata": {},
   "outputs": [
    {
     "name": "stdout",
     "output_type": "stream",
     "text": [
      " The properties built before 1955 are, actually, 4.47% more expensive, on avarage\n",
      "|    |   yr_built |   buying_price |\n",
      "|---:|-----------:|---------------:|\n",
      "| 53 |       1953 |         490423 |\n",
      "| 46 |       1946 |         524641 |\n",
      "| 25 |       1925 |         607219 |\n",
      "| 28 |       1928 |         621714 |\n",
      "| 32 |       1932 |         458409 |\n",
      "|  5 |       1905 |         752978 |\n",
      "| 50 |       1950 |         490506 |\n",
      "| 51 |       1951 |         545029 |\n",
      "| 52 |       1952 |         530437 |\n",
      "| 10 |       1910 |         671536 |\n"
     ]
    },
    {
     "data": {
      "text/html": [
       "<div>\n",
       "<style scoped>\n",
       "    .dataframe tbody tr th:only-of-type {\n",
       "        vertical-align: middle;\n",
       "    }\n",
       "\n",
       "    .dataframe tbody tr th {\n",
       "        vertical-align: top;\n",
       "    }\n",
       "\n",
       "    .dataframe thead th {\n",
       "        text-align: right;\n",
       "    }\n",
       "</style>\n",
       "<table border=\"1\" class=\"dataframe\">\n",
       "  <thead>\n",
       "    <tr style=\"text-align: right;\">\n",
       "      <th></th>\n",
       "      <th>yr_built</th>\n",
       "      <th>buying_price</th>\n",
       "    </tr>\n",
       "  </thead>\n",
       "  <tbody>\n",
       "    <tr>\n",
       "      <th>4</th>\n",
       "      <td>1904</td>\n",
       "      <td>583756.64</td>\n",
       "    </tr>\n",
       "    <tr>\n",
       "      <th>24</th>\n",
       "      <td>1924</td>\n",
       "      <td>570391.15</td>\n",
       "    </tr>\n",
       "    <tr>\n",
       "      <th>31</th>\n",
       "      <td>1931</td>\n",
       "      <td>661617.21</td>\n",
       "    </tr>\n",
       "    <tr>\n",
       "      <th>11</th>\n",
       "      <td>1911</td>\n",
       "      <td>632488.36</td>\n",
       "    </tr>\n",
       "    <tr>\n",
       "      <th>16</th>\n",
       "      <td>1916</td>\n",
       "      <td>600915.04</td>\n",
       "    </tr>\n",
       "    <tr>\n",
       "      <th>8</th>\n",
       "      <td>1908</td>\n",
       "      <td>564348.69</td>\n",
       "    </tr>\n",
       "    <tr>\n",
       "      <th>40</th>\n",
       "      <td>1940</td>\n",
       "      <td>576119.49</td>\n",
       "    </tr>\n",
       "    <tr>\n",
       "      <th>23</th>\n",
       "      <td>1923</td>\n",
       "      <td>618475.20</td>\n",
       "    </tr>\n",
       "    <tr>\n",
       "      <th>1</th>\n",
       "      <td>1901</td>\n",
       "      <td>556935.93</td>\n",
       "    </tr>\n",
       "    <tr>\n",
       "      <th>41</th>\n",
       "      <td>1941</td>\n",
       "      <td>526612.01</td>\n",
       "    </tr>\n",
       "  </tbody>\n",
       "</table>\n",
       "</div>"
      ],
      "text/plain": [
       "    yr_built  buying_price\n",
       "4       1904     583756.64\n",
       "24      1924     570391.15\n",
       "31      1931     661617.21\n",
       "11      1911     632488.36\n",
       "16      1916     600915.04\n",
       "8       1908     564348.69\n",
       "40      1940     576119.49\n",
       "23      1923     618475.20\n",
       "1       1901     556935.93\n",
       "41      1941     526612.01"
      ]
     },
     "execution_count": 12,
     "metadata": {},
     "output_type": "execute_result"
    }
   ],
   "source": [
    "# get the prices before 1955\n",
    "before_year = data.loc[(data['yr_built'] < 1955), ['yr_built', 'buying_price']\n",
    "        ].groupby('yr_built').mean().reset_index()\n",
    "\n",
    "# get the mean of the before-1955 prices\n",
    "mean_before = before_year['buying_price'].mean()\n",
    "\n",
    "# get the prices after 1955\n",
    "after_year = data.loc[(data['yr_built'] >= 1955), ['yr_built', 'buying_price']\n",
    "        ].groupby('yr_built').mean().reset_index()\n",
    "\n",
    "# get the mean of the before-1955 prices\n",
    "mean_after = after_year['buying_price'].mean()\n",
    "\n",
    "# get the percentage difference (result)\n",
    "percentage = (((mean_after * 100) / mean_before) - 100) * -1\n",
    "\n",
    "# print the result\n",
    "before_year.rename(columns = {'buying_price_mean':'price_mean_year'}, inplace = True)\n",
    "print(f' The properties built before 1955 are, actually, {percentage:.2f}% more expensive, on avarage')\n",
    "print(before_year.sample(10).to_markdown())\n",
    "before_year.sample(10)\n"
   ]
  },
  {
   "cell_type": "markdown",
   "id": "6fd9a470",
   "metadata": {},
   "source": [
    "### Hypotesis 02 Answer:\n",
    "**False**: The properties built before 1955 are, actually, 4.46% more expensive, on avarage"
   ]
  },
  {
   "cell_type": "markdown",
   "id": "7ae9ac85",
   "metadata": {},
   "source": [
    "****"
   ]
  },
  {
   "cell_type": "markdown",
   "id": "523a403e",
   "metadata": {},
   "source": [
    "### Hypothesis 03:\n",
    "Properties without a basement have a total area, at least, 40% larger than properties with basement, on avarage."
   ]
  },
  {
   "cell_type": "code",
   "execution_count": 13,
   "id": "8811c792",
   "metadata": {},
   "outputs": [
    {
     "name": "stdout",
     "output_type": "stream",
     "text": [
      "Properties with basement, are -18.40% larger than the ones without one, on avarage\n",
      "|    | has_basement   |   sqft_lot_mean |\n",
      "|---:|:---------------|----------------:|\n",
      "|  0 | False          |         16284.2 |\n",
      "|  1 | True           |         13287.2 |\n"
     ]
    },
    {
     "data": {
      "text/html": [
       "<div>\n",
       "<style scoped>\n",
       "    .dataframe tbody tr th:only-of-type {\n",
       "        vertical-align: middle;\n",
       "    }\n",
       "\n",
       "    .dataframe tbody tr th {\n",
       "        vertical-align: top;\n",
       "    }\n",
       "\n",
       "    .dataframe thead th {\n",
       "        text-align: right;\n",
       "    }\n",
       "</style>\n",
       "<table border=\"1\" class=\"dataframe\">\n",
       "  <thead>\n",
       "    <tr style=\"text-align: right;\">\n",
       "      <th></th>\n",
       "      <th>has_basement</th>\n",
       "      <th>sqft_lot_mean</th>\n",
       "    </tr>\n",
       "  </thead>\n",
       "  <tbody>\n",
       "    <tr>\n",
       "      <th>0</th>\n",
       "      <td>False</td>\n",
       "      <td>16284.18</td>\n",
       "    </tr>\n",
       "    <tr>\n",
       "      <th>1</th>\n",
       "      <td>True</td>\n",
       "      <td>13287.15</td>\n",
       "    </tr>\n",
       "  </tbody>\n",
       "</table>\n",
       "</div>"
      ],
      "text/plain": [
       "   has_basement  sqft_lot_mean\n",
       "0         False       16284.18\n",
       "1          True       13287.15"
      ]
     },
     "execution_count": 13,
     "metadata": {},
     "output_type": "execute_result"
    }
   ],
   "source": [
    "# get a copy of the dataset\n",
    "df1 = data[['sqft_basement', 'sqft_lot']].copy()\n",
    "\n",
    "# create 'has_basement' column (boolean)\n",
    "df1['has_basement'] = df1['sqft_basement'].apply(lambda x: True if x != 0 else False)\n",
    "df1 = df1[['sqft_lot', 'has_basement']].groupby('has_basement').mean().reset_index()\n",
    "\n",
    "# calculate the percentage difference\n",
    "# properties without basement = 100%\n",
    "# properties with basement = x (81.59%)\n",
    "x = percentage_growth(df1)\n",
    "\n",
    "# 100 - 81.59 is the size difference on avarage\n",
    "df1.rename(columns = {'sqft_lot':'sqft_lot_mean'}, inplace = True)\n",
    "print(f'Properties with basement, are {x:.2f}% larger than the ones without one, on avarage')\n",
    "print(df1.to_markdown())\n",
    "df1"
   ]
  },
  {
   "cell_type": "markdown",
   "id": "deefe577",
   "metadata": {},
   "source": [
    "### Hypothesis 03 Answer:\n",
    "\n",
    "**False**: Properties without basement are 18.41% larger than the ones with basement, on avarage\n"
   ]
  },
  {
   "cell_type": "markdown",
   "id": "f9ceec00",
   "metadata": {},
   "source": [
    "****"
   ]
  },
  {
   "cell_type": "markdown",
   "id": "13c7b85c",
   "metadata": {},
   "source": [
    "### Hypothesis 04:\n",
    "The property price growth YoY (Year over Year) is more than 10%.\n",
    "\n",
    "**False**: The price percentage growth of 2015 over 2014 is 0.52%"
   ]
  },
  {
   "cell_type": "code",
   "execution_count": 10,
   "id": "49c4a148",
   "metadata": {},
   "outputs": [
    {
     "name": "stdout",
     "output_type": "stream",
     "text": [
      "The price percentage growth of 2015 over 2014 is 0.52%\n"
     ]
    },
    {
     "data": {
      "image/png": "[encoded data removed]",
      "text/plain": [
       "<Figure size 216x288 with 1 Axes>"
      ]
     },
     "metadata": {
      "needs_background": "light"
     },
     "output_type": "display_data"
    }
   ],
   "source": [
    "# set year column based on date column\n",
    "data['date'] = pd.to_datetime(data['date'], format='%Y-%m-%d')\n",
    "data['year'] = data['date'].dt.year\n",
    "\n",
    "# group price means by year\n",
    "df = data[['year','buying_price']].groupby('year').mean().reset_index()\n",
    "\n",
    "# get the growth percentage YoY\n",
    "YoY_price = percentage_growth(df)\n",
    "df.rename(columns = {'buying_price':'buying_price_mean'}, inplace = True)\n",
    "print(f'The price percentage growth of 2015 over 2014 is {YoY_price:.2f}%')\n",
    "\n",
    "# plot the buying price mean per year graph\n",
    "plt.figure(figsize = (3, 4))\n",
    "sns.set_theme(style=\"darkgrid\")\n",
    "ax = sns.barplot(x='year', y='buying_price_mean', data=df);\n",
    "ax.bar_label(ax.containers[0]);"
   ]
  },
  {
   "cell_type": "markdown",
   "id": "a03b65f3",
   "metadata": {},
   "source": [
    "### Hypothesis 04 Answer:\n",
    "**False**: The price percentage growth of 2015 over 2014 is 0.52%"
   ]
  },
  {
   "cell_type": "markdown",
   "id": "73050962",
   "metadata": {},
   "source": [
    "****"
   ]
  },
  {
   "cell_type": "markdown",
   "id": "23ef22a7",
   "metadata": {},
   "source": [
    "### Hypothesis 05 :\n",
    "Properties with 3 bathrooms have a price growth of more than 15% per month, on avarage."
   ]
  },
  {
   "cell_type": "code",
   "execution_count": 21,
   "id": "d073964c",
   "metadata": {},
   "outputs": [
    {
     "name": "stdout",
     "output_type": "stream",
     "text": [
      "Properties with 3 bathrooms have a price growth of 0.32% per month, on avarage.\n",
      "|    |   year |   month |   buying_price_mean | date                |      growth |\n",
      "|---:|-------:|--------:|--------------------:|:--------------------|------------:|\n",
      "|  0 |   2014 |       5 |              690081 | 2014-10-13 00:00:00 |   0         |\n",
      "|  1 |   2014 |       6 |              775058 | 2014-12-09 00:00:00 | -10.9639    |\n",
      "|  2 |   2014 |       7 |              741405 | 2015-02-25 00:00:00 |   4.53902   |\n",
      "|  3 |   2014 |       8 |              737577 | 2014-12-09 00:00:00 |   0.519062  |\n",
      "|  4 |   2014 |       9 |              645247 | 2015-02-18 00:00:00 |  14.3092    |\n",
      "|  5 |   2014 |      10 |              645523 | 2014-05-12 00:00:00 |  -0.0427758 |\n",
      "|  6 |   2014 |      11 |              679910 | 2014-06-27 00:00:00 |  -5.05764   |\n",
      "|  7 |   2014 |      12 |              728341 | 2015-01-15 00:00:00 |  -6.64946   |\n",
      "|  8 |   2015 |       1 |              672923 | 2015-04-15 00:00:00 |   8.23542   |\n",
      "|  9 |   2015 |       2 |              696714 | 2015-03-12 00:00:00 |  -3.41478   |\n",
      "| 10 |   2015 |       3 |              768495 | 2015-04-03 00:00:00 |  -9.34042   |\n",
      "| 11 |   2015 |       4 |              709752 | 2014-05-27 00:00:00 |   8.27657   |\n",
      "| 12 |   2015 |       5 |              686352 | 2014-05-28 00:00:00 |   3.40934   |\n"
     ]
    },
    {
     "data": {
      "text/html": [
       "<div>\n",
       "<style scoped>\n",
       "    .dataframe tbody tr th:only-of-type {\n",
       "        vertical-align: middle;\n",
       "    }\n",
       "\n",
       "    .dataframe tbody tr th {\n",
       "        vertical-align: top;\n",
       "    }\n",
       "\n",
       "    .dataframe thead th {\n",
       "        text-align: right;\n",
       "    }\n",
       "</style>\n",
       "<table border=\"1\" class=\"dataframe\">\n",
       "  <thead>\n",
       "    <tr style=\"text-align: right;\">\n",
       "      <th></th>\n",
       "      <th>year</th>\n",
       "      <th>month</th>\n",
       "      <th>buying_price_mean</th>\n",
       "      <th>date</th>\n",
       "      <th>growth</th>\n",
       "    </tr>\n",
       "  </thead>\n",
       "  <tbody>\n",
       "    <tr>\n",
       "      <th>0</th>\n",
       "      <td>2014</td>\n",
       "      <td>5</td>\n",
       "      <td>690080.71</td>\n",
       "      <td>2014-10-13</td>\n",
       "      <td>0.00</td>\n",
       "    </tr>\n",
       "    <tr>\n",
       "      <th>1</th>\n",
       "      <td>2014</td>\n",
       "      <td>6</td>\n",
       "      <td>775057.56</td>\n",
       "      <td>2014-12-09</td>\n",
       "      <td>-10.96</td>\n",
       "    </tr>\n",
       "    <tr>\n",
       "      <th>2</th>\n",
       "      <td>2014</td>\n",
       "      <td>7</td>\n",
       "      <td>741405.04</td>\n",
       "      <td>2015-02-25</td>\n",
       "      <td>4.54</td>\n",
       "    </tr>\n",
       "    <tr>\n",
       "      <th>3</th>\n",
       "      <td>2014</td>\n",
       "      <td>8</td>\n",
       "      <td>737576.56</td>\n",
       "      <td>2014-12-09</td>\n",
       "      <td>0.52</td>\n",
       "    </tr>\n",
       "    <tr>\n",
       "      <th>4</th>\n",
       "      <td>2014</td>\n",
       "      <td>9</td>\n",
       "      <td>645246.89</td>\n",
       "      <td>2015-02-18</td>\n",
       "      <td>14.31</td>\n",
       "    </tr>\n",
       "    <tr>\n",
       "      <th>5</th>\n",
       "      <td>2014</td>\n",
       "      <td>10</td>\n",
       "      <td>645523.02</td>\n",
       "      <td>2014-05-12</td>\n",
       "      <td>-0.04</td>\n",
       "    </tr>\n",
       "    <tr>\n",
       "      <th>6</th>\n",
       "      <td>2014</td>\n",
       "      <td>11</td>\n",
       "      <td>679910.47</td>\n",
       "      <td>2014-06-27</td>\n",
       "      <td>-5.06</td>\n",
       "    </tr>\n",
       "    <tr>\n",
       "      <th>7</th>\n",
       "      <td>2014</td>\n",
       "      <td>12</td>\n",
       "      <td>728341.19</td>\n",
       "      <td>2015-01-15</td>\n",
       "      <td>-6.65</td>\n",
       "    </tr>\n",
       "    <tr>\n",
       "      <th>8</th>\n",
       "      <td>2015</td>\n",
       "      <td>1</td>\n",
       "      <td>672923.17</td>\n",
       "      <td>2015-04-15</td>\n",
       "      <td>8.24</td>\n",
       "    </tr>\n",
       "    <tr>\n",
       "      <th>9</th>\n",
       "      <td>2015</td>\n",
       "      <td>2</td>\n",
       "      <td>696714.42</td>\n",
       "      <td>2015-03-12</td>\n",
       "      <td>-3.41</td>\n",
       "    </tr>\n",
       "    <tr>\n",
       "      <th>10</th>\n",
       "      <td>2015</td>\n",
       "      <td>3</td>\n",
       "      <td>768495.10</td>\n",
       "      <td>2015-04-03</td>\n",
       "      <td>-9.34</td>\n",
       "    </tr>\n",
       "    <tr>\n",
       "      <th>11</th>\n",
       "      <td>2015</td>\n",
       "      <td>4</td>\n",
       "      <td>709751.99</td>\n",
       "      <td>2014-05-27</td>\n",
       "      <td>8.28</td>\n",
       "    </tr>\n",
       "    <tr>\n",
       "      <th>12</th>\n",
       "      <td>2015</td>\n",
       "      <td>5</td>\n",
       "      <td>686351.95</td>\n",
       "      <td>2014-05-28</td>\n",
       "      <td>3.41</td>\n",
       "    </tr>\n",
       "  </tbody>\n",
       "</table>\n",
       "</div>"
      ],
      "text/plain": [
       "    year  month  buying_price_mean       date  growth\n",
       "0   2014      5          690080.71 2014-10-13    0.00\n",
       "1   2014      6          775057.56 2014-12-09  -10.96\n",
       "2   2014      7          741405.04 2015-02-25    4.54\n",
       "3   2014      8          737576.56 2014-12-09    0.52\n",
       "4   2014      9          645246.89 2015-02-18   14.31\n",
       "5   2014     10          645523.02 2014-05-12   -0.04\n",
       "6   2014     11          679910.47 2014-06-27   -5.06\n",
       "7   2014     12          728341.19 2015-01-15   -6.65\n",
       "8   2015      1          672923.17 2015-04-15    8.24\n",
       "9   2015      2          696714.42 2015-03-12   -3.41\n",
       "10  2015      3          768495.10 2015-04-03   -9.34\n",
       "11  2015      4          709751.99 2014-05-27    8.28\n",
       "12  2015      5          686351.95 2014-05-28    3.41"
      ]
     },
     "execution_count": 21,
     "metadata": {},
     "output_type": "execute_result"
    },
    {
     "data": {
      "image/png": "[encoded data removed]",
      "text/plain": [
       "<Figure size 432x288 with 1 Axes>"
      ]
     },
     "metadata": {},
     "output_type": "display_data"
    }
   ],
   "source": [
    "# create 'month' and 'year' columns\n",
    "data['month'] = data['date'].dt.month\n",
    "data['year'] = data['date'].dt.year\n",
    "\n",
    "# set a dataset with the month, year and mean price of the 3 bathrooms properties\n",
    "df = data.loc[data['bathrooms'] == 3, ['year', 'month', 'buying_price']\n",
    "        ].groupby(['year', 'month']\n",
    "                 ).mean().reset_index()\n",
    "df['date'] = data['date'].copy()\n",
    "\n",
    "# create the 'growth' column ( growth of the price mean compared to the last month in percentage)\n",
    "for l in range(len(df)):\n",
    "    if l == 0:\n",
    "        df.loc[l, 'growth'] = 0\n",
    "    else:\n",
    "        df.loc[l, 'growth'] = ((df.loc[ \n",
    "            (l-1), 'buying_price' \n",
    "        ] * 100) / df.loc[\n",
    "            l, 'buying_price'\n",
    "        ]) - 100\n",
    "\n",
    "# the result is the mean of all the growth percentages per month\n",
    "result = df.iloc[1:, 4].mean()\n",
    "df.rename(columns = {'buying_price':'buying_price_mean'}, inplace = True)\n",
    "print(f'Properties with 3 bathrooms have a price growth of {result:.2f}% per month, on avarage.')\n",
    "\n",
    "# plot a graph of the growth per month\n",
    "sns.lineplot(x = 'date', y = 'growth', data = df);\n",
    "print(df.to_markdown())\n",
    "df"
   ]
  },
  {
   "cell_type": "markdown",
   "id": "f8ca1f6f",
   "metadata": {},
   "source": [
    "### Hypothesis 05 Answer:\n",
    "**FALSE**: Properties with 3 bathrooms have a price growth of 0.32% per month, on avarage."
   ]
  },
  {
   "cell_type": "markdown",
   "id": "f469ce02",
   "metadata": {},
   "source": [
    "****"
   ]
  }
 ],
 "metadata": {
  "kernelspec": {
   "display_name": "Python 3 (ipykernel)",
   "language": "python",
   "name": "python3"
  },
  "language_info": {
   "codemirror_mode": {
    "name": "ipython",
    "version": 3
   },
   "file_extension": ".py",
   "mimetype": "text/x-python",
   "name": "python",
   "nbconvert_exporter": "python",
   "pygments_lexer": "ipython3",
   "version": "3.9.7"
  }
 },
 "nbformat": 4,
 "nbformat_minor": 5
}
