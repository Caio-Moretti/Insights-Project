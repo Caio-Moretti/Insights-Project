{
 "cells": [
  {
   "cell_type": "markdown",
   "id": "e175fa2c",
   "metadata": {},
   "source": [
    "## Imports"
   ]
  },
  {
   "cell_type": "code",
   "execution_count": 1,
   "id": "12d841a9",
   "metadata": {},
   "outputs": [],
   "source": [
    "import pandas as pd\n",
    "import numpy as np"
   ]
  },
  {
   "cell_type": "markdown",
   "id": "800f38f8",
   "metadata": {},
   "source": [
    "## Functions"
   ]
  },
  {
   "cell_type": "code",
   "execution_count": 2,
   "id": "357f7468",
   "metadata": {},
   "outputs": [],
   "source": [
    "def get_data (path):\n",
    "    df = pd.read_csv(path)\n",
    "    df.head()\n",
    "    df.rename(columns = {'price':'buying_price'}, inplace = True)\n",
    "    return df\n",
    "\n",
    "def col_price_median(data):\n",
    "    df = data[['buying_price', 'zipcode']].groupby('zipcode').median().reset_index()\n",
    "    df.columns = df.columns.str.replace('buying_price', 'price_median')\n",
    "    df2 = pd.merge(data,df,on='zipcode',how='inner')\n",
    "    return df2\n",
    "\n",
    "def col_status(df2):\n",
    "    for i in range( len(df2) ):\n",
    "        if (df2.loc[i, 'buying_price'] < df2.loc[i, 'price_median']) & (df2.loc[i, 'condition'] >= 2):\n",
    "            df2.loc[i, 'status'] = 'buy'\n",
    "        else:\n",
    "            df2.loc[i, 'status'] = 'not_buy'\n",
    "    return df2\n",
    "\n",
    "def col_season(data):\n",
    "    data['date'] = pd.to_datetime(data['date'], format='%Y-%m-%d')\n",
    "    \n",
    "    data['season'] = data['date'].apply(lambda x: \n",
    "                                        'winter' \n",
    "                                        if ts('2014-05-02') <= x <= ts('2014-05-31') else\n",
    "                                       'summer' \n",
    "                                        if ts('2014-06-01') <= x <= ts('2014-11-30') else\n",
    "                                       'winter')\n",
    "    return data\n",
    "\n",
    "def ts(obj):\n",
    "    return pd.to_datetime(obj)\n",
    "\n",
    "def col_season_median(data):\n",
    "    df = data[['season', 'zipcode', 'buying_price']].groupby(['season', 'zipcode']).median()\n",
    "    df.columns = df.columns.str.replace('buying_price', 'season_median')\n",
    "    df2 = pd.merge(data,df,on=['zipcode', 'season'],how='inner')\n",
    "    return df2\n",
    "\n",
    "def col_selling_price(data):\n",
    "    data['selling_price'] = float(0)\n",
    "    for i in range( len(data) ):\n",
    "        if (data.loc[i, 'buying_price'] < data.loc[i, 'season_median']) & (data.loc[i, 'status'] == 'buy'):\n",
    "            data.loc[i, 'selling_price'] = float(data.loc[i, 'buying_price']) * 1.30\n",
    "        if (data.loc[i, 'buying_price'] >= data.loc[i, 'season_median']) & (data.loc[i, 'status'] == 'buy'):\n",
    "            data.loc[i, 'selling_price'] = float(data.loc[i, 'buying_price']) * 1.10\n",
    "    return data\n",
    "\n",
    "def col_profit(data):\n",
    "    data['profit'] = float(0)\n",
    "    for i in range(len(data)):\n",
    "        if data.loc[i, 'selling_price'] != 0:\n",
    "            data.loc[i, 'profit'] = float(data.loc[i, 'selling_price']) - float(data.loc[i, 'buying_price'])\n",
    "        else:\n",
    "            None\n",
    "    return data"
   ]
  },
  {
   "cell_type": "code",
   "execution_count": 42,
   "id": "82816a45",
   "metadata": {},
   "outputs": [],
   "source": [
    "# dropping a line I know is a outlier\n",
    "data = data.drop(data.index[15870])"
   ]
  },
  {
   "cell_type": "code",
   "execution_count": 43,
   "id": "7c146313",
   "metadata": {},
   "outputs": [
    {
     "data": {
      "text/plain": [
       "Index(['id', 'date', 'buying_price', 'bedrooms', 'bathrooms', 'sqft_living',\n",
       "       'sqft_lot', 'floors', 'waterfront', 'view', 'condition', 'grade',\n",
       "       'sqft_above', 'sqft_basement', 'yr_built', 'yr_renovated', 'zipcode',\n",
       "       'lat', 'long', 'sqft_living15', 'sqft_lot15'],\n",
       "      dtype='object')"
      ]
     },
     "execution_count": 43,
     "metadata": {},
     "output_type": "execute_result"
    }
   ],
   "source": [
    "# data columns visualization for names\n",
    "data.columns"
   ]
  },
  {
   "cell_type": "markdown",
   "id": "43342d50",
   "metadata": {},
   "source": [
    "# Data Overview\n",
    "Here I will describe some columns I will be using for the insights and the reports"
   ]
  },
  {
   "cell_type": "markdown",
   "id": "2e82facd",
   "metadata": {},
   "source": [
    "## Insights Validation\n",
    "Here i will check the insights veracity and explain its results one by one."
   ]
  },
  {
   "cell_type": "markdown",
   "id": "05662b67",
   "metadata": {},
   "source": [
    "### Hypotesis 01:\n",
    "Water view properties are, at least, 20% more expensive, on avarege.\n",
    "\n",
    "**True:** Properties with water view are 212.63% more expensive, on avarege."
   ]
  },
  {
   "cell_type": "code",
   "execution_count": 70,
   "id": "d1d9a1fa",
   "metadata": {
    "scrolled": true
   },
   "outputs": [
    {
     "data": {
      "text/html": [
       "<div>\n",
       "<style scoped>\n",
       "    .dataframe tbody tr th:only-of-type {\n",
       "        vertical-align: middle;\n",
       "    }\n",
       "\n",
       "    .dataframe tbody tr th {\n",
       "        vertical-align: top;\n",
       "    }\n",
       "\n",
       "    .dataframe thead th {\n",
       "        text-align: right;\n",
       "    }\n",
       "</style>\n",
       "<table border=\"1\" class=\"dataframe\">\n",
       "  <thead>\n",
       "    <tr style=\"text-align: right;\">\n",
       "      <th></th>\n",
       "      <th>waterfront</th>\n",
       "      <th>buying_price</th>\n",
       "    </tr>\n",
       "  </thead>\n",
       "  <tbody>\n",
       "    <tr>\n",
       "      <th>0</th>\n",
       "      <td>0</td>\n",
       "      <td>531575.29</td>\n",
       "    </tr>\n",
       "    <tr>\n",
       "      <th>1</th>\n",
       "      <td>1</td>\n",
       "      <td>1661876.02</td>\n",
       "    </tr>\n",
       "  </tbody>\n",
       "</table>\n",
       "</div>"
      ],
      "text/plain": [
       "   waterfront  buying_price\n",
       "0           0     531575.29\n",
       "1           1    1661876.02"
      ]
     },
     "execution_count": 70,
     "metadata": {},
     "output_type": "execute_result"
    }
   ],
   "source": [
    "# set float configuration\n",
    "pd.set_option('display.float_format', lambda x: '%.2f' % x)\n",
    "\n",
    "# group the prices means by waterfront (0 = nowaterview; 1 = has waterview)\n",
    "price_waterview = data[['buying_price', 'waterfront']].groupby('waterfront').mean().reset_index()\n",
    "price_waterview"
   ]
  },
  {
   "cell_type": "code",
   "execution_count": 68,
   "id": "d6b39a51",
   "metadata": {},
   "outputs": [
    {
     "name": "stdout",
     "output_type": "stream",
     "text": [
      "Properties with water view are 212.63% more expensive, on avarege\n"
     ]
    }
   ],
   "source": [
    "# calculate the percentage difference of waterview prices over non-waterview prices\n",
    "percentage_difference = ((price_waterview.iloc[1, 1] * 100) / price_waterview.iloc[0, 1]) - 100\n",
    "print(f'Properties with water view are {percentage_difference:.2f}% more expensive, on avarege')"
   ]
  },
  {
   "cell_type": "code",
   "execution_count": null,
   "id": "c37a91f9",
   "metadata": {},
   "outputs": [],
   "source": []
  },
  {
   "cell_type": "markdown",
   "id": "27baa45f",
   "metadata": {},
   "source": [
    "### Hypotesis 02:\n",
    "Properties built before 1955 are more than 50% cheaper, on avarege.\n",
    "\n",
    "**False**: The properties built before 1955 are, actually, 4.46% more expensive, on avarage"
   ]
  },
  {
   "cell_type": "code",
   "execution_count": 96,
   "id": "1e09e0f7",
   "metadata": {},
   "outputs": [],
   "source": [
    "# get the prices before 1955\n",
    "before_year = data.loc[(data['yr_built'] < 1955), ['yr_built', 'buying_price']\n",
    "        ].groupby('yr_built').mean().reset_index()\n",
    "\n",
    "# get the mean of the before-1955 prices\n",
    "mean_before = before_year['buying_price'].mean()\n",
    "\n",
    "# get the prices after 1955\n",
    "after_year = data.loc[(data['yr_built'] >= 1955), ['yr_built', 'buying_price']\n",
    "        ].groupby('yr_built').mean().reset_index()\n",
    "\n",
    "# get the mean of the before-1955 prices\n",
    "mean_after = after_year['buying_price'].mean()\n"
   ]
  },
  {
   "cell_type": "code",
   "execution_count": 97,
   "id": "51a6ffd9",
   "metadata": {},
   "outputs": [
    {
     "name": "stdout",
     "output_type": "stream",
     "text": [
      " The properties built before 1955 are, actually, 4.46% more expensive, on avarage\n"
     ]
    }
   ],
   "source": [
    "# get the percentage difference (result)\n",
    "percentage = (((mean_after * 100) / mean_before) - 100) * -1\n",
    "\n",
    "# print the result\n",
    "print(f' The properties built before 1955 are, actually, {percentage:.2f}% more expensive, on avarage')"
   ]
  },
  {
   "cell_type": "code",
   "execution_count": null,
   "id": "c73ea2e1",
   "metadata": {},
   "outputs": [],
   "source": []
  },
  {
   "cell_type": "markdown",
   "id": "523a403e",
   "metadata": {},
   "source": [
    "### Hypothesis 03:\n",
    "Properties without a basement have a total area, at least, 40% larger than properties with basement, on avarage.\n",
    "\n",
    "**False**: Properties without basement are 18.41% larger than the ones with basement, on avarage\n"
   ]
  },
  {
   "cell_type": "code",
   "execution_count": 108,
   "id": "406921f7",
   "metadata": {},
   "outputs": [
    {
     "data": {
      "text/html": [
       "<div>\n",
       "<style scoped>\n",
       "    .dataframe tbody tr th:only-of-type {\n",
       "        vertical-align: middle;\n",
       "    }\n",
       "\n",
       "    .dataframe tbody tr th {\n",
       "        vertical-align: top;\n",
       "    }\n",
       "\n",
       "    .dataframe thead th {\n",
       "        text-align: right;\n",
       "    }\n",
       "</style>\n",
       "<table border=\"1\" class=\"dataframe\">\n",
       "  <thead>\n",
       "    <tr style=\"text-align: right;\">\n",
       "      <th></th>\n",
       "      <th>has_basement</th>\n",
       "      <th>sqft_lot</th>\n",
       "    </tr>\n",
       "  </thead>\n",
       "  <tbody>\n",
       "    <tr>\n",
       "      <th>0</th>\n",
       "      <td>False</td>\n",
       "      <td>16284.75</td>\n",
       "    </tr>\n",
       "    <tr>\n",
       "      <th>1</th>\n",
       "      <td>True</td>\n",
       "      <td>13287.15</td>\n",
       "    </tr>\n",
       "  </tbody>\n",
       "</table>\n",
       "</div>"
      ],
      "text/plain": [
       "   has_basement  sqft_lot\n",
       "0         False  16284.75\n",
       "1          True  13287.15"
      ]
     },
     "execution_count": 108,
     "metadata": {},
     "output_type": "execute_result"
    }
   ],
   "source": [
    "# get a copy of the dataset\n",
    "df = data[['sqft_basement', 'sqft_lot']].copy()\n",
    "\n",
    "# create 'has_basement' column (boolean)\n",
    "df['has_basement'] = df['sqft_basement'].apply(lambda x: True if x != 0 else False)\n",
    "df = df[['sqft_lot', 'has_basement']].groupby('has_basement').mean().reset_index()\n",
    "df"
   ]
  },
  {
   "cell_type": "code",
   "execution_count": 114,
   "id": "8811c792",
   "metadata": {},
   "outputs": [
    {
     "name": "stdout",
     "output_type": "stream",
     "text": [
      "Properties without basement, are 18.41% larger than the ones with basement, on avarage\n"
     ]
    }
   ],
   "source": [
    "# calculate the percentage difference\n",
    "# properties without basement = 100%\n",
    "# properties with basement = x (81.59%)\n",
    "x = df.iloc[1 ,1] * 100 / df.iloc[0, 1]\n",
    "\n",
    "# 100 - 81.59 is the size difference on avarage\n",
    "print(f'Properties without basement, are {100 - x:.2f}% larger than the ones with basement, on avarage')"
   ]
  },
  {
   "cell_type": "code",
   "execution_count": null,
   "id": "1c9cf5b7",
   "metadata": {},
   "outputs": [],
   "source": []
  },
  {
   "cell_type": "markdown",
   "id": "13c7b85c",
   "metadata": {},
   "source": [
    "### Hypothesis 04:\n",
    "The property price growth YoY (Year over Year) is more than 10%.\n",
    "\n",
    "****"
   ]
  },
  {
   "cell_type": "code",
   "execution_count": null,
   "id": "49c4a148",
   "metadata": {},
   "outputs": [],
   "source": []
  }
 ],
 "metadata": {
  "kernelspec": {
   "display_name": "Python 3 (ipykernel)",
   "language": "python",
   "name": "python3"
  },
  "language_info": {
   "codemirror_mode": {
    "name": "ipython",
    "version": 3
   },
   "file_extension": ".py",
   "mimetype": "text/x-python",
   "name": "python",
   "nbconvert_exporter": "python",
   "pygments_lexer": "ipython3",
   "version": "3.9.7"
  }
 },
 "nbformat": 4,
 "nbformat_minor": 5
}
